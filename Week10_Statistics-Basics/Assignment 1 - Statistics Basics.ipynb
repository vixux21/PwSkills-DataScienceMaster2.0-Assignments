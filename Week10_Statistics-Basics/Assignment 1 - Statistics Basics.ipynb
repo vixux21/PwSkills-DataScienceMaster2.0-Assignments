{
  "nbformat": 4,
  "nbformat_minor": 0,
  "metadata": {
    "colab": {
      "provenance": []
    },
    "kernelspec": {
      "name": "python3",
      "display_name": "Python 3"
    },
    "language_info": {
      "name": "python"
    }
  },
  "cells": [
    {
      "cell_type": "markdown",
      "source": [
        "# ***ASSIGNMENT STATISTICS BASIC 1***"
      ],
      "metadata": {
        "id": "9NFlQ7YiqdJH"
      }
    },
    {
      "cell_type": "markdown",
      "source": [
        "Q1. What is Statistics?"
      ],
      "metadata": {
        "id": "v-zTIkrynXuU"
      }
    },
    {
      "cell_type": "markdown",
      "source": [
        "Statistics is the field that deals with collecting, organizing, analyzing, interpreting, and presenting data. It's like a toolbox with techniques to understand the world around us through data.  Statistics is often considered a branch of mathematics, but it has applications in many fields, like science, business, and social sciences.\n",
        "\n",
        "Here's a breakdown of what statistics involves:\n",
        "\n",
        "* **Collection:** This involves gathering data through surveys, experiments, or existing records.\n",
        "* **Organization:** Once you have data, you need to arrange it in a way that makes sense. This might involve creating tables or charts.\n",
        "* **Analysis:** This is where you start to play with the data to uncover patterns and trends. Statistical methods help you find meaning in the data.\n",
        "* **Interpretation:**  After analysis, you need to explain what the data means and how it relates to your question.\n",
        "* **Presentation:**  This involves communicating your findings in a clear and concise way, often using tables, charts, or graphs.\n",
        "\n",
        "Overall, statistics helps us make sense of the world by turning data into knowledge."
      ],
      "metadata": {
        "id": "rGSTr9yrnX_M"
      }
    },
    {
      "cell_type": "markdown",
      "source": [
        "Q2. Define the different types of statistics and give an example of when each type might be used."
      ],
      "metadata": {
        "id": "Vbg3taM8nmlH"
      }
    },
    {
      "cell_type": "markdown",
      "source": [
        "There are two main types of statistics: Descriptive Statistics and Inferential Statistics.\n",
        "\n",
        "* **Descriptive Statistics:**  This is all about summarizing the properties of a data set. It helps us understand what the data looks like and get a basic picture of it. Common tools in descriptive statistics include:\n",
        "    * **Measures of central tendency:** These tell you about the \"average\" of the data, like mean, median, and mode.\n",
        "    * **Measures of dispersion:** These describe how spread out the data is, like variance and standard deviation.\n",
        "\n",
        "  * **Example:**  A company might use descriptive statistics to find the average age and income of its customers. This helps them understand their target audience.\n",
        "\n",
        "* **Inferential Statistics:**  This type of statistics goes beyond the data you have and allows you to draw conclusions about a larger population.  It uses sample data and statistical models to make inferences about the population as a whole. Common tools in inferential statistics include:\n",
        "    * **Hypothesis testing:** This helps you test claims or predictions about the population.\n",
        "    * **Regression analysis:** This helps you model relationships between variables.\n",
        "\n",
        "  * **Example:**  Researchers might use inferential statistics to test the effectiveness of a new drug by analyzing a sample group.  This helps them make conclusions about the drug's potential benefit for the entire population.\n"
      ],
      "metadata": {
        "id": "TyeN94RknvTi"
      }
    },
    {
      "cell_type": "markdown",
      "source": [
        "Q3. What are the different types of data and how do they differ from each other? Provide an example of\n",
        "each type of data."
      ],
      "metadata": {
        "id": "tIh_jYv7ny9a"
      }
    },
    {
      "cell_type": "markdown",
      "source": [
        "Data can be classified into several types based on its nature, structure, and usage. Here are the primary types of data along with examples for each:\n",
        "\n",
        "### 1. **Qualitative Data**\n",
        "Qualitative data is descriptive and characterizes but does not measure attributes, properties, or characteristics. It often involves categories and can be observed but not measured.\n",
        "\n",
        "**Example:**\n",
        "- **Color**: Describing a car as red, blue, or green.\n",
        "- **Feedback**: Customer reviews or opinions about a product.\n",
        "\n",
        "### 2. **Quantitative Data**\n",
        "Quantitative data is numerical and can be measured or counted. It is typically represented in numbers and can be subjected to mathematical operations.\n",
        "\n",
        "#### a. **Discrete Data**\n",
        "Discrete data is countable and often involves integers. It represents distinct, separate values.\n",
        "\n",
        "**Example:**\n",
        "- **Number of students in a class**: 20, 25, 30.\n",
        "- **Number of cars in a parking lot**: 10, 15, 20.\n",
        "\n",
        "#### b. **Continuous Data**\n",
        "Continuous data can take any value within a range. It is measurable and often involves fractions or decimals.\n",
        "\n",
        "**Example:**\n",
        "- **Height of a person**: 5.8 feet, 6.1 feet.\n",
        "- **Temperature**: 72.5°F, 85.3°F.\n",
        "\n",
        "### 3. **Nominal Data**\n",
        "Nominal data is a type of qualitative data that categorizes without any order. It involves labels or names.\n",
        "\n",
        "**Example:**\n",
        "- **Gender**: Male, Female, Other.\n",
        "- **Marital Status**: Single, Married, Divorced.\n",
        "\n",
        "### 4. **Ordinal Data**\n",
        "Ordinal data is qualitative data with a meaningful order or rank but without a consistent difference between ranks.\n",
        "\n",
        "**Example:**\n",
        "- **Survey ratings**: Poor, Fair, Good, Excellent.\n",
        "- **Education level**: High school, Bachelor’s, Master’s, PhD.\n",
        "\n",
        "### 5. **Interval Data**\n",
        "Interval data is quantitative data with meaningful differences between values but no true zero point. The intervals between values are consistent.\n",
        "\n",
        "**Example:**\n",
        "- **Temperature in Celsius**: 10°C, 20°C, 30°C.\n",
        "- **Dates**: 2000, 2001, 2002.\n",
        "\n",
        "### 6. **Ratio Data**\n",
        "Ratio data is quantitative data with all the properties of interval data, and it has a true zero point, which allows for the calculation of ratios.\n",
        "\n",
        "**Example:**\n",
        "- **Weight**: 50 kg, 70 kg.\n",
        "- **Income**: $0, $50,000, $100,000.\n",
        "\n",
        "Each type of data is used differently in analysis and determines the appropriate statistical methods for summarizing and interpreting the data."
      ],
      "metadata": {
        "id": "EBj9x1-Tn6jO"
      }
    },
    {
      "cell_type": "markdown",
      "source": [
        "Q4. Categorise the following datasets with respect to quantitative and qualitative data types:\n",
        "(i) Grading in exam: A+, A, B+, B, C+, C, D, E\n",
        "(ii) Colour of mangoes: yellow, green, orange, red\n",
        "(iii) Height data of a class: [178.9, 179, 179.5, 176, 177.2, 178.3, 175.8,...]\n",
        "(iv) Number of mangoes exported by a farm: [500, 600, 478, 672, ...]"
      ],
      "metadata": {
        "id": "ZUZw5fRZoRot"
      }
    },
    {
      "cell_type": "markdown",
      "source": [
        "### Categorization of Datasets:\n",
        "\n",
        "#### (i) Grading in exam: A+, A, B+, B, C+, C, D, E\n",
        "- **Type:** Qualitative Data (Ordinal)\n",
        "- **Explanation:** Grading represents categories with a meaningful order but no precise measurement between the grades.\n",
        "\n",
        "#### (ii) Colour of mangoes: yellow, green, orange, red\n",
        "- **Type:** Qualitative Data (Nominal)\n",
        "- **Explanation:** Colours are categories with no inherent order or ranking among them.\n",
        "\n",
        "#### (iii) Height data of a class: [178.9, 179, 179.5, 176, 177.2, 178.3, 175.8,...]\n",
        "- **Type:** Quantitative Data (Continuous)\n",
        "- **Explanation:** Heights are measurable and can take any value within a range.\n",
        "\n",
        "#### (iv) Number of mangoes exported by a farm: [500, 600, 478, 672, ...]\n",
        "- **Type:** Quantitative Data (Discrete)\n",
        "- **Explanation:** The number of mangoes is countable and represents distinct, separate values."
      ],
      "metadata": {
        "id": "0X-oATWhoXu6"
      }
    },
    {
      "cell_type": "markdown",
      "source": [
        "Q5. Explain the concept of levels of measurement and give an example of a variable for each level."
      ],
      "metadata": {
        "id": "VliJ4WcZofEU"
      }
    },
    {
      "cell_type": "markdown",
      "source": [
        "The concept of levels of measurement, introduced by psychologist Stanley Smith Stevens, categorizes data based on the nature of the information within the values assigned to variables. The levels are:\n",
        "\n",
        "1. **Nominal**\n",
        "2. **Ordinal**\n",
        "3. **Interval**\n",
        "4. **Ratio**\n",
        "\n",
        "### 1. Nominal Level\n",
        "- **Concept:** The nominal level of measurement involves categorical data without any order or ranking among the categories. It classifies data into distinct groups or categories.\n",
        "- **Example:**\n",
        "  - **Variable:** Type of pet.\n",
        "  - **Values:** Dog, Cat, Bird, Fish.\n",
        "\n",
        "### 2. Ordinal Level\n",
        "- **Concept:** The ordinal level of measurement involves data that can be ordered or ranked, but the intervals between the ranks are not necessarily equal. It indicates relative positions.\n",
        "- **Example:**\n",
        "  - **Variable:** Customer satisfaction rating.\n",
        "  - **Values:** Very Unsatisfied, Unsatisfied, Neutral, Satisfied, Very Satisfied.\n",
        "\n",
        "### 3. Interval Level\n",
        "- **Concept:** The interval level of measurement involves ordered data with equal intervals between values, but there is no true zero point. Arithmetic operations like addition and subtraction can be performed on interval data.\n",
        "- **Example:**\n",
        "  - **Variable:** Temperature in Celsius.\n",
        "  - **Values:** 0°C, 10°C, 20°C, 30°C.\n",
        "\n",
        "### 4. Ratio Level\n",
        "- **Concept:** The ratio level of measurement involves ordered data with equal intervals and a true zero point, which allows for the calculation of ratios. All arithmetic operations are possible.\n",
        "- **Example:**\n",
        "  - **Variable:** Height of individuals.\n",
        "  - **Values:** 150 cm, 160 cm, 170 cm, 180 cm.\n",
        "\n",
        "These levels of measurement are crucial for determining the appropriate statistical techniques to apply for analyzing data and for interpreting the results accurately."
      ],
      "metadata": {
        "id": "aYyqtiG2orBm"
      }
    },
    {
      "cell_type": "markdown",
      "source": [
        "Q6. Why is it important to understand the level of measurement when analyzing data? Provide an\n",
        "example to illustrate your answer."
      ],
      "metadata": {
        "id": "0PnSGrg9oroF"
      }
    },
    {
      "cell_type": "markdown",
      "source": [
        "Understanding the level of measurement when analyzing data is crucial because it dictates the types of statistical analyses that can be appropriately applied to the data and ensures the validity of the conclusions drawn. Different levels of measurement (nominal, ordinal, interval, and ratio) have distinct properties and constraints that influence how data can be summarized, compared, and interpreted.\n",
        "\n",
        "### Levels of Measurement:\n",
        "\n",
        "1. **Nominal**: Categorizes data without a natural order or ranking (e.g., types of fruits, gender).\n",
        "2. **Ordinal**: Categorizes data with a natural order but without consistent differences between categories (e.g., rankings, class levels).\n",
        "3. **Interval**: Measures data with meaningful intervals between values but no true zero point (e.g., temperature in Celsius or Fahrenheit).\n",
        "4. **Ratio**: Measures data with meaningful intervals and a true zero point, allowing for the calculation of ratios (e.g., height, weight, time).\n",
        "\n",
        "### Example:\n",
        "\n",
        "Suppose you are analyzing customer satisfaction survey results. The survey includes questions with different types of responses:\n",
        "\n",
        "1. **Nominal Data**: \"What is your favorite product?\" (Options: Product A, Product B, Product C)\n",
        "2. **Ordinal Data**: \"Rate your overall satisfaction.\" (Options: Very Unsatisfied, Unsatisfied, Neutral, Satisfied, Very Satisfied)\n",
        "3. **Interval Data**: \"What is the current temperature in your office?\" (Reported in degrees Celsius)\n",
        "4. **Ratio Data**: \"How many times have you purchased from us in the past year?\"\n",
        "\n",
        "#### Importance of Understanding Levels of Measurement:\n",
        "\n",
        "1. **Statistical Analysis**:\n",
        "   - For nominal data, you can calculate frequencies or mode but not the mean or median.\n",
        "   - For ordinal data, you can use median and mode but not the mean; non-parametric tests are often more appropriate.\n",
        "   - For interval data, you can use the mean, median, and mode, and you can perform arithmetic operations like addition and subtraction.\n",
        "   - For ratio data, all statistical operations, including geometric mean and coefficient of variation, are valid because of the true zero point.\n",
        "\n",
        "2. **Interpretation of Results**:\n",
        "   - Misinterpreting ordinal data as interval data (e.g., calculating the mean of satisfaction ratings) can lead to incorrect conclusions, as the differences between ratings are not necessarily uniform.\n",
        "   - Using ratio-level analysis for nominal or ordinal data can result in meaningless or misleading results.\n",
        "\n",
        "3. **Choice of Visualization**:\n",
        "   - Nominal data might be best represented by bar charts or pie charts.\n",
        "   - Ordinal data might use bar charts or histograms to show order.\n",
        "   - Interval and ratio data can use line graphs, scatter plots, or histograms to represent the data accurately.\n",
        "\n",
        "### Example Illustration:\n",
        "\n",
        "Consider the customer satisfaction ratings:\n",
        "\n",
        "- **Ordinal**: \"Rate your overall satisfaction.\" (1=Very Unsatisfied, 2=Unsatisfied, 3=Neutral, 4=Satisfied, 5=Very Satisfied)\n",
        "\n",
        "If you treat this ordinal data as interval data and calculate the mean satisfaction score, you might find an average rating of 3.6. However, this average may not accurately reflect the true sentiment because the difference between ratings (e.g., between 2 and 3) is not necessarily the same as between other ratings (e.g., between 4 and 5). Therefore, it would be more appropriate to report the median or mode and use non-parametric tests to analyze the differences between groups.\n",
        "\n",
        "By understanding and correctly applying the levels of measurement, you ensure that your data analysis is both accurate and meaningful, leading to more reliable and valid insights."
      ],
      "metadata": {
        "id": "nIyhsjPloxD_"
      }
    },
    {
      "cell_type": "markdown",
      "source": [
        "Q7. How nominal data type is different from ordinal data type."
      ],
      "metadata": {
        "id": "wGB5StBSpZZk"
      }
    },
    {
      "cell_type": "markdown",
      "source": [
        "Nominal and ordinal data types are both categorical, but they differ in terms of the characteristics and the nature of the categories they represent. Here are the key differences:\n",
        "\n",
        "### Nominal Data\n",
        "\n",
        "1. **Definition**:\n",
        "   - Nominal data classifies data into distinct categories without any inherent order or ranking.\n",
        "   \n",
        "2. **Characteristics**:\n",
        "   - Categories are mutually exclusive.\n",
        "   - No logical order or ranking among categories.\n",
        "   - Data can only be counted or categorized.\n",
        "   - Numerical values (if used) are arbitrary and serve as labels only.\n",
        "\n",
        "3. **Examples**:\n",
        "   - Gender (Male, Female, Other)\n",
        "   - Types of fruit (Apple, Banana, Orange)\n",
        "   - Blood type (A, B, AB, O)\n",
        "\n",
        "4. **Analysis**:\n",
        "   - Common analyses include calculating frequencies, mode, and proportions.\n",
        "   - Visualization typically involves bar charts or pie charts.\n",
        "\n",
        "### Ordinal Data\n",
        "\n",
        "1. **Definition**:\n",
        "   - Ordinal data classifies data into distinct categories that have a meaningful order or ranking.\n",
        "\n",
        "2. **Characteristics**:\n",
        "   - Categories are mutually exclusive.\n",
        "   - There is a logical order or ranking among categories.\n",
        "   - The intervals between categories are not necessarily equal.\n",
        "   - Data can be counted, ordered, and ranked, but the differences between ranks are not measurable.\n",
        "\n",
        "3. **Examples**:\n",
        "   - Educational level (High School, Bachelor's, Master's, Ph.D.)\n",
        "   - Customer satisfaction ratings (Very Unsatisfied, Unsatisfied, Neutral, Satisfied, Very Satisfied)\n",
        "   - Likert scale responses (Strongly Disagree, Disagree, Neutral, Agree, Strongly Agree)\n",
        "\n",
        "4. **Analysis**:\n",
        "   - Common analyses include calculating frequencies, median, mode, and percentiles.\n",
        "   - Non-parametric statistical tests are often used.\n",
        "   - Visualization typically involves bar charts or histograms to show the order.\n",
        "\n",
        "### Key Differences\n",
        "\n",
        "1. **Order**:\n",
        "   - **Nominal**: No inherent order (e.g., types of fruit).\n",
        "   - **Ordinal**: Inherent order or ranking (e.g., education levels).\n",
        "\n",
        "2. **Intervals**:\n",
        "   - **Nominal**: No consideration of intervals between categories.\n",
        "   - **Ordinal**: Intervals are not equal and are not measurable.\n",
        "\n",
        "3. **Statistical Operations**:\n",
        "   - **Nominal**: Limited to counts and frequencies.\n",
        "   - **Ordinal**: Allows for ordering and ranking, but not precise measurement of differences.\n",
        "\n",
        "4. **Use Cases**:\n",
        "   - **Nominal**: Used for naming or labeling variables without a quantitative value.\n",
        "   - **Ordinal**: Used when the order of categories is important but the precise differences between them are not.\n",
        "\n",
        "### Example Comparison\n",
        "\n",
        "- **Nominal Data**: Survey question asking for the respondent's favorite color (Red, Blue, Green, Yellow). These categories are distinct with no inherent order.\n",
        "- **Ordinal Data**: Survey question asking for the respondent's satisfaction level (Very Unsatisfied, Unsatisfied, Neutral, Satisfied, Very Satisfied). These categories have a meaningful order, indicating levels of satisfaction.\n",
        "\n",
        "Understanding these differences helps in choosing the appropriate methods for data analysis and ensuring the accuracy and relevance of the results."
      ],
      "metadata": {
        "id": "0vuRhEDlpeuM"
      }
    },
    {
      "cell_type": "markdown",
      "source": [
        "Q8. Which type of plot can be used to display data in terms of range?"
      ],
      "metadata": {
        "id": "8aQ6vLf8pvrl"
      }
    },
    {
      "cell_type": "markdown",
      "source": [
        "A **box plot** (box-and-whisker plot) is commonly used to display data in terms of range, as it shows the minimum, first quartile, median, third quartile, and maximum values."
      ],
      "metadata": {
        "id": "hjODtwLmpSBy"
      }
    },
    {
      "cell_type": "markdown",
      "source": [
        "Q9. Describe the difference between descriptive and inferential statistics. Give an example of each\n",
        "type of statistics and explain how they are used."
      ],
      "metadata": {
        "id": "3OSDgA0jqAAz"
      }
    },
    {
      "cell_type": "markdown",
      "source": [
        "### Descriptive Statistics\n",
        "\n",
        "**Definition**: Descriptive statistics summarize and describe the main features of a dataset. They provide simple summaries about the sample and the measures.\n",
        "\n",
        "**Purpose**: To provide an overview of the data, showing patterns, trends, and making the data easy to understand.\n",
        "\n",
        "**Common Measures**:\n",
        "- **Central Tendency**: Mean, median, mode.\n",
        "- **Dispersion**: Range, variance, standard deviation, interquartile range.\n",
        "- **Distribution**: Frequency distributions, histograms.\n",
        "\n",
        "**Example**:\n",
        "- **Scenario**: A teacher wants to summarize the exam scores of her students.\n",
        "- **Descriptive Statistics Used**:\n",
        "  - Mean score: Average score of the students.\n",
        "  - Median score: Middle score when all scores are arranged in order.\n",
        "  - Standard deviation: Measure of the spread of the scores around the mean.\n",
        "- **Usage**: These statistics help the teacher understand the general performance of the class and identify any trends, such as a high level of variability in scores.\n",
        "\n",
        "### Inferential Statistics\n",
        "\n",
        "**Definition**: Inferential statistics make inferences and predictions about a population based on a sample of data drawn from that population. They help to generalize findings from a sample to a larger population.\n",
        "\n",
        "**Purpose**: To draw conclusions, make predictions, and test hypotheses about a population from a sample.\n",
        "\n",
        "**Common Techniques**:\n",
        "- **Hypothesis Testing**: t-tests, chi-square tests, ANOVA.\n",
        "- **Estimation**: Confidence intervals.\n",
        "- **Regression Analysis**: Simple and multiple regression.\n",
        "\n",
        "**Example**:\n",
        "- **Scenario**: A pharmaceutical company wants to know if a new drug is effective in lowering blood pressure.\n",
        "- **Inferential Statistics Used**:\n",
        "  - Conduct a hypothesis test (e.g., t-test) to compare the blood pressure of patients taking the new drug versus a placebo.\n",
        "  - Calculate a confidence interval to estimate the average reduction in blood pressure for the entire population.\n",
        "- **Usage**: These techniques allow the company to infer whether the observed effect in the sample is likely to be seen in the entire population of patients and determine the reliability of their results.\n",
        "\n"
      ],
      "metadata": {
        "id": "5XsB2WMTqCL7"
      }
    },
    {
      "cell_type": "markdown",
      "source": [
        "Q10. What are some common measures of central tendency and variability used in statistics? Explain\n",
        "how each measure can be used to describe a dataset."
      ],
      "metadata": {
        "id": "uUH28-1tqNCR"
      }
    },
    {
      "cell_type": "markdown",
      "source": [
        "In statistics, measures of central tendency and variability are used to summarize and describe datasets. Here’s a look at some common measures of each:\n",
        "\n",
        "### Measures of Central Tendency\n",
        "\n",
        "1. **Mean**:\n",
        "   - **Definition**: The arithmetic average of a dataset, calculated by summing all values and dividing by the number of values.\n",
        "   - **Use**: Provides a central value around which the data tends to cluster. It is useful for understanding the general level of the dataset.\n",
        "   - **Example**: If the exam scores of a class are 70, 75, 80, 85, and 90, the mean score is (70 + 75 + 80 + 85 + 90) / 5 = 80.\n",
        "\n",
        "2. **Median**:\n",
        "   - **Definition**: The middle value of a dataset when it is ordered from smallest to largest. If there is an even number of observations, the median is the average of the two middle numbers.\n",
        "   - **Use**: Provides a measure of central tendency that is less sensitive to outliers and skewed data. It is useful for understanding the middle point of a dataset.\n",
        "   - **Example**: For the dataset 70, 75, 80, 85, 90, the median is 80. For the dataset 70, 75, 80, 85, 90, 95, the median is (80 + 85) / 2 = 82.5.\n",
        "\n",
        "3. **Mode**:\n",
        "   - **Definition**: The value that appears most frequently in a dataset.\n",
        "   - **Use**: Indicates the most common value in the dataset. It is useful for categorical data or when identifying the most frequent value is important.\n",
        "   - **Example**: In the dataset 70, 75, 75, 80, 85, the mode is 75, as it appears most frequently.\n",
        "\n",
        "### Measures of Variability\n",
        "\n",
        "1. **Range**:\n",
        "   - **Definition**: The difference between the maximum and minimum values in a dataset.\n",
        "   - **Use**: Provides a simple measure of how spread out the values are. It gives a quick sense of the extent of variability.\n",
        "   - **Example**: For the dataset 70, 75, 80, 85, 90, the range is 90 - 70 = 20.\n",
        "\n",
        "2. **Variance**:\n",
        "   - **Definition**: The average of the squared differences between each data point and the mean of the dataset. It measures the spread of the data points.\n",
        "   - **Use**: Quantifies the degree of dispersion in the dataset. A higher variance indicates more spread.\n",
        "   - **Example**: If the mean of a dataset is 80 and the squared differences from the mean are calculated, variance is the average of these squared differences.\n",
        "\n",
        "3. **Standard Deviation**:\n",
        "   - **Definition**: The square root of the variance. It provides a measure of dispersion in the same units as the data.\n",
        "   - **Use**: Offers a more interpretable measure of spread than variance because it is in the same units as the data. It helps understand how much data deviates from the mean.\n",
        "   - **Example**: If the variance of a dataset is 25, the standard deviation is √25 = 5.\n",
        "\n",
        "4. **Interquartile Range (IQR)**:\n",
        "   - **Definition**: The range between the first quartile (Q1) and the third quartile (Q3). It measures the spread of the middle 50% of the data.\n",
        "   - **Use**: Provides a measure of variability that is resistant to outliers. It focuses on the central portion of the data.\n",
        "   - **Example**: For the dataset with Q1 = 75 and Q3 = 85, the IQR is 85 - 75 = 10.\n",
        "\n"
      ],
      "metadata": {
        "id": "cf-OQ3OvqUp2"
      }
    },
    {
      "cell_type": "markdown",
      "source": [],
      "metadata": {
        "id": "PfZeAPzVqaPE"
      }
    }
  ]
}