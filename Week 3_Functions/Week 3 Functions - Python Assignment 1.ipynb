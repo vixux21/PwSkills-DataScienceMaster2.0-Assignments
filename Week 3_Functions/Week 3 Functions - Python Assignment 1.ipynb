{
  "nbformat": 4,
  "nbformat_minor": 0,
  "metadata": {
    "colab": {
      "provenance": []
    },
    "kernelspec": {
      "name": "python3",
      "display_name": "Python 3"
    },
    "language_info": {
      "name": "python"
    }
  },
  "cells": [
    {
      "cell_type": "markdown",
      "source": [
        "# **Week 3 Functions - Python Assignment 1**"
      ],
      "metadata": {
        "id": "mYTw04kvfzAp"
      }
    },
    {
      "cell_type": "markdown",
      "source": [
        "In Python, comments are used to explain code and make it more readable. There are two types of comments:\n",
        "1. **Single-line comments:** Use the hash (`#`) symbol. Anything following the `#` on that line is considered a comment.\n",
        "    ```python\n",
        "    # This is a single-line comment\n",
        "    print(\"Hello, World!\")  # This is an inline comment"
      ],
      "metadata": {
        "id": "WpyZHVyXeKyw"
      }
    },
    {
      "cell_type": "code",
      "source": [
        "# This is a single-line comment\n",
        "print(\"Hello, World!\")  # This is an inline comment"
      ],
      "metadata": {
        "id": "GafmHpUWeLgy"
      },
      "execution_count": null,
      "outputs": []
    },
    {
      "cell_type": "markdown",
      "source": [
        "2. **Multi-line comments:** Use triple quotes (`'''` or `\"\"\"`). These can span multiple lines."
      ],
      "metadata": {
        "id": "AItvnxBXeTsn"
      }
    },
    {
      "cell_type": "code",
      "source": [
        "\"\"\"\n",
        "This is a multi-line comment.\n",
        "It can span multiple lines.\n",
        "\"\"\"\n",
        "print(\"Hello, World!\")"
      ],
      "metadata": {
        "id": "jIw6K631eXQW"
      },
      "execution_count": null,
      "outputs": []
    },
    {
      "cell_type": "markdown",
      "source": [
        "### Q2. What are variables in Python? How do you declare and assign values to variables?\n",
        "\n",
        "Variables are used to store data that can be used and manipulated throughout a program. In Python, you declare and assign values to variables by using the assignment operator (`=`)."
      ],
      "metadata": {
        "id": "r0l9gE_dedmi"
      }
    },
    {
      "cell_type": "code",
      "source": [
        "x = 10  # Declare a variable 'x' and assign the value 10 to it\n",
        "name = \"Alice\"  # Declare a variable 'name' and assign the string \"Alice\" to it"
      ],
      "metadata": {
        "id": "c73_KKIBeeLf"
      },
      "execution_count": null,
      "outputs": []
    },
    {
      "cell_type": "markdown",
      "source": [
        "### Q3. How do you convert one data type to another in Python?\n",
        "\n",
        "You can convert data types in Python using built-in functions:\n",
        "- `int()`: Converts to integer\n",
        "- `float()`: Converts to float\n",
        "- `str()`: Converts to string\n",
        "- `bool()`: Converts to boolean\n"
      ],
      "metadata": {
        "id": "D9ZGyXwweghv"
      }
    },
    {
      "cell_type": "code",
      "source": [
        "x = 5  # integer\n",
        "y = float(x)  # convert to float, y becomes 5.0\n",
        "z = str(x)  # convert to string, z becomes \"5\""
      ],
      "metadata": {
        "id": "jxGpVEvueotU"
      },
      "execution_count": null,
      "outputs": []
    },
    {
      "cell_type": "markdown",
      "source": [
        "### Q4. How do you write and execute a Python script from the command line?\n",
        "\n",
        "1. **Write a Python script:** Create a file with a `.py` extension, e.g., `script.py`."
      ],
      "metadata": {
        "id": "MzWt93lfeqe_"
      }
    },
    {
      "cell_type": "code",
      "source": [
        "# script.py\n",
        "print(\"Hello, World!\")]"
      ],
      "metadata": {
        "id": "Z3oGuPNMewFB"
      },
      "execution_count": null,
      "outputs": []
    },
    {
      "cell_type": "markdown",
      "source": [
        "2. **Execute the script from the command line:**"
      ],
      "metadata": {
        "id": "gO0tQuAyeunq"
      }
    },
    {
      "cell_type": "code",
      "source": [
        "python script.py"
      ],
      "metadata": {
        "id": "E7aGfVKTevD9"
      },
      "execution_count": null,
      "outputs": []
    },
    {
      "cell_type": "markdown",
      "source": [
        "### Q5. Given a list `my_list = [1, 2, 3, 4, 5]`, write the code to slice the list and obtain the sub-list `[2, 3]`."
      ],
      "metadata": {
        "id": "E0WFCx3yelco"
      }
    },
    {
      "cell_type": "code",
      "source": [
        "my_list = [1, 2, 3, 4, 5]\n",
        "sub_list = my_list[1:3]  # Slices the list from index 1 to 2 (3 is not included)\n",
        "print(sub_list)  # Output: [2, 3]\n"
      ],
      "metadata": {
        "id": "1YonaGR6fHxw"
      },
      "execution_count": null,
      "outputs": []
    },
    {
      "cell_type": "markdown",
      "source": [
        "### Q6. What is a complex number in mathematics, and how is it represented in Python?\n",
        "\n",
        "A complex number in mathematics is a number that has both a real part and an imaginary part. It is represented as \\( a + bi \\) where \\( a \\) is the real part and \\( b \\) is the imaginary part.\n",
        "\n",
        "In Python, complex numbers are represented as follows:"
      ],
      "metadata": {
        "id": "4O-qd6HAfMqp"
      }
    },
    {
      "cell_type": "code",
      "source": [
        "z = 3 + 4j  # 3 is the real part, and 4j is the imaginary part\n",
        "print(z.real)  # Output: 3.0\n",
        "print(z.imag)  # Output: 4.0\n"
      ],
      "metadata": {
        "id": "VQXLOY_kfNSQ"
      },
      "execution_count": null,
      "outputs": []
    },
    {
      "cell_type": "markdown",
      "source": [
        "\n",
        "### Q7. What is the correct way to declare a variable named `age` and assign the value 25 to it?"
      ],
      "metadata": {
        "id": "tp8sc1ugfPlv"
      }
    },
    {
      "cell_type": "code",
      "source": [
        "age = 25\n"
      ],
      "metadata": {
        "id": "NH1POHoofTap"
      },
      "execution_count": null,
      "outputs": []
    },
    {
      "cell_type": "markdown",
      "source": [
        "### Q8. Declare a variable named `price` and assign the value `9.99` to it. What data type does this variable belong to?"
      ],
      "metadata": {
        "id": "bU5ZGvPqfWHP"
      }
    },
    {
      "cell_type": "code",
      "source": [
        "price = 9.99\n",
        "# The data type of 'price' is float\n",
        "print(type(price))  # Output: <class 'float'>\n"
      ],
      "metadata": {
        "id": "Bf7qMq99fZ_g"
      },
      "execution_count": null,
      "outputs": []
    },
    {
      "cell_type": "markdown",
      "source": [
        "### Q9. Create a variable named `name` and assign your full name to it as a string. How would you print the value of this variable?"
      ],
      "metadata": {
        "id": "AfOHD7H7fbYW"
      }
    },
    {
      "cell_type": "code",
      "source": [
        "name = \"John Doe\"  # Replace with your full name\n",
        "print(name)  # Output: John Doe\n"
      ],
      "metadata": {
        "id": "Hk1k7m4LffJG"
      },
      "execution_count": null,
      "outputs": []
    },
    {
      "cell_type": "markdown",
      "source": [
        "### Q10. Given the string `\"Hello, World!\"`, extract the substring `\"World\"`."
      ],
      "metadata": {
        "id": "zNDz8x7TfdrP"
      }
    },
    {
      "cell_type": "code",
      "source": [
        "s = \"Hello, World!\"\n",
        "substring = s[7:12]  # Slices the string from index 7 to 11 (12 is not included)\n",
        "print(substring)  # Output: World\n"
      ],
      "metadata": {
        "id": "R-HL973nfkkD"
      },
      "execution_count": null,
      "outputs": []
    },
    {
      "cell_type": "markdown",
      "source": [
        "### Q11. Create a variable named `is_student` and assign it a boolean value indicating whether you are a student."
      ],
      "metadata": {
        "id": "564oghMQfmQY"
      }
    },
    {
      "cell_type": "code",
      "source": [
        "is_student = True  # or False, depending on your status\n"
      ],
      "metadata": {
        "id": "0-CaHWVrfrA-"
      },
      "execution_count": null,
      "outputs": []
    }
  ]
}